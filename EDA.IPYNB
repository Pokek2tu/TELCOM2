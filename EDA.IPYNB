# EDA - Análisis Exploratorio de Datos

## 1. Cargar datos
```python
import pandas as pd
df = pd.read_csv('../data/raw/dataset.csv')
df.head()
